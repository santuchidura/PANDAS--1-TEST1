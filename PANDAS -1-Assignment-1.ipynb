{
 "cells": [
  {
   "cell_type": "code",
   "execution_count": 1,
   "metadata": {},
   "outputs": [
    {
     "name": "stdout",
     "output_type": "stream",
     "text": [
      "   X    Y\n",
      "0  7  1.0\n",
      "1  2  2.0\n",
      "2  0  0.0\n",
      "3  3  1.0\n",
      "4  4  2.0\n",
      "5  2  3.0\n",
      "6  5  4.0\n",
      "7  0  0.0\n",
      "8  3  1.0\n",
      "9  4  2.0\n"
     ]
    }
   ],
   "source": [
    "\"\"\"\n",
    "1) How-to-count-distance-to-the-previous-zero\n",
    "For each value, count the difference of the distance from the previous zero (or the start\n",
    "of the Series, whichever is closer) and if there are no previous zeros,print the position\n",
    " Consider a DataFrame df where there is an integer column {'X':[7, 2, 0, 3, 4, 2, 5, 0, 3, 4]}\n",
    " The values should therefore be [1, 2, 0, 1, 2, 3, 4, 0, 1, 2]. Make this a new column 'Y'.\n",
    "import pandas as pd\n",
    "df = pd.DataFrame({'X': [7, 2, 0, 3, 4, 2, 5, 0, 3, 4]})\n",
    "\"\"\"\n",
    "\n",
    "import pandas as pd\n",
    "import numpy as np\n",
    "\n",
    "\n",
    "df = pd.DataFrame({'X': [7, 2, 0, 3, 4, 2, 5, 0, 3, 4]})\n",
    "x = (df['X'] != 0).cumsum()\n",
    "y = x != x.shift()\n",
    "\n",
    "df['Y'] = y.groupby((y != y.shift()).cumsum()).cumsum()\n",
    "\n",
    "x = (df['X'] != 0).cumsum()\n",
    "y = x != x.shift()\n",
    "\n",
    "df['Y'] = y.groupby((y != y.shift()).cumsum()).cumsum()\n",
    "\n",
    "print(df)"
   ]
  },
  {
   "cell_type": "code",
   "execution_count": 2,
   "metadata": {},
   "outputs": [
    {
     "name": "stdout",
     "output_type": "stream",
     "text": [
      "2015-01-01    0.451846\n",
      "2015-01-02    0.944229\n",
      "2015-01-03    0.360453\n",
      "2015-01-04    0.820605\n",
      "2015-01-05    0.444812\n",
      "2015-01-06    0.741457\n",
      "2015-01-07    0.612860\n",
      "2015-01-08    0.559010\n",
      "2015-01-09    0.015024\n",
      "2015-01-10    0.286784\n",
      "2015-01-11    0.909195\n",
      "2015-01-12    0.880581\n",
      "2015-01-13    0.466935\n",
      "2015-01-14    0.862895\n",
      "2015-01-15    0.451438\n",
      "2015-01-16    0.110835\n",
      "2015-01-17    0.670007\n",
      "2015-01-18    0.200728\n",
      "2015-01-19    0.074758\n",
      "2015-01-20    0.632795\n",
      "2015-01-21    0.390140\n",
      "2015-01-22    0.490485\n",
      "2015-01-23    0.285693\n",
      "2015-01-24    0.971291\n",
      "2015-01-25    0.726391\n",
      "2015-01-26    0.721181\n",
      "2015-01-27    0.327311\n",
      "2015-01-28    0.939758\n",
      "2015-01-29    0.500500\n",
      "2015-01-30    0.563142\n",
      "                ...   \n",
      "2015-12-02    0.975744\n",
      "2015-12-03    0.115032\n",
      "2015-12-04    0.341736\n",
      "2015-12-05    0.903676\n",
      "2015-12-06    0.332874\n",
      "2015-12-07    0.755217\n",
      "2015-12-08    0.934509\n",
      "2015-12-09    0.213556\n",
      "2015-12-10    0.270059\n",
      "2015-12-11    0.150592\n",
      "2015-12-12    0.062981\n",
      "2015-12-13    0.533091\n",
      "2015-12-14    0.423295\n",
      "2015-12-15    0.340597\n",
      "2015-12-16    0.137151\n",
      "2015-12-17    0.735946\n",
      "2015-12-18    0.751849\n",
      "2015-12-19    0.775064\n",
      "2015-12-20    0.435587\n",
      "2015-12-21    0.656655\n",
      "2015-12-22    0.250608\n",
      "2015-12-23    0.580641\n",
      "2015-12-24    0.380445\n",
      "2015-12-25    0.674857\n",
      "2015-12-26    0.635313\n",
      "2015-12-27    0.325243\n",
      "2015-12-28    0.339970\n",
      "2015-12-29    0.262100\n",
      "2015-12-30    0.935564\n",
      "2015-12-31    0.244298\n",
      "Freq: D, Length: 365, dtype: float64\n"
     ]
    }
   ],
   "source": [
    "\"\"\"\n",
    "Create a DatetimeIndex that contains each business day of 2015 and use it to index a Series of random numbers\n",
    "\"\"\"\n",
    "\n",
    "datetimeindex = pd.date_range(start='2015-01-01', end='2015-12-31')\n",
    "s = pd.Series(np.random.rand(len(datetimeindex)),index=datetimeindex)\n",
    "print(s)"
   ]
  },
  {
   "cell_type": "code",
   "execution_count": 3,
   "metadata": {},
   "outputs": [
    {
     "data": {
      "text/plain": [
       "25.888337894612206"
      ]
     },
     "execution_count": 3,
     "metadata": {},
     "output_type": "execute_result"
    }
   ],
   "source": [
    "\"\"\"\n",
    "3) Find the sum of the values in s for every Wednesday\n",
    "\"\"\"\n",
    "s[datetimeindex.weekday_name == 'Wednesday'].sum()"
   ]
  },
  {
   "cell_type": "code",
   "execution_count": 4,
   "metadata": {},
   "outputs": [
    {
     "data": {
      "text/plain": [
       "2015-01-31    0.534601\n",
       "2015-02-28    0.450797\n",
       "2015-03-31    0.504999\n",
       "2015-04-30    0.547523\n",
       "2015-05-31    0.513240\n",
       "2015-06-30    0.467708\n",
       "2015-07-31    0.461545\n",
       "2015-08-31    0.472838\n",
       "2015-09-30    0.489428\n",
       "2015-10-31    0.513712\n",
       "2015-11-30    0.447729\n",
       "2015-12-31    0.491644\n",
       "Freq: M, dtype: float64"
      ]
     },
     "execution_count": 4,
     "metadata": {},
     "output_type": "execute_result"
    }
   ],
   "source": [
    "\"\"\"\n",
    "4) Average For each calendar month\n",
    "\"\"\"\n",
    "s.groupby(pd.Grouper(freq='M')).mean()"
   ]
  },
  {
   "cell_type": "code",
   "execution_count": 5,
   "metadata": {},
   "outputs": [
    {
     "data": {
      "text/plain": [
       "2015-01-31    0.971291\n",
       "2015-05-31    0.997163\n",
       "2015-09-30    0.996816\n",
       "2016-01-31    0.988635\n",
       "dtype: float64"
      ]
     },
     "execution_count": 5,
     "metadata": {},
     "output_type": "execute_result"
    }
   ],
   "source": [
    "\"\"\"\n",
    "5) For each group of four consecutive calendar months in s, find the date on which the highest value occurred.\n",
    "\"\"\"\n",
    "s.groupby(pd.Grouper(freq='4M')).max()"
   ]
  },
  {
   "cell_type": "code",
   "execution_count": null,
   "metadata": {},
   "outputs": [],
   "source": []
  }
 ],
 "metadata": {
  "kernelspec": {
   "display_name": "Python 3",
   "language": "python",
   "name": "python3"
  },
  "language_info": {
   "codemirror_mode": {
    "name": "ipython",
    "version": 3
   },
   "file_extension": ".py",
   "mimetype": "text/x-python",
   "name": "python",
   "nbconvert_exporter": "python",
   "pygments_lexer": "ipython3",
   "version": "3.7.0"
  }
 },
 "nbformat": 4,
 "nbformat_minor": 2
}
