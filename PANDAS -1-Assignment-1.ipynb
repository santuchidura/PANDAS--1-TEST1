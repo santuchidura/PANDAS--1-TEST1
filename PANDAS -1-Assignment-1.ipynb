{
 "cells": [
  {
   "cell_type": "code",
   "execution_count": 3,
   "metadata": {},
   "outputs": [
    {
     "name": "stdout",
     "output_type": "stream",
     "text": [
      "   X    Y\n",
      "0  7  1.0\n",
      "1  2  2.0\n",
      "2  0  0.0\n",
      "3  3  1.0\n",
      "4  4  2.0\n",
      "5  2  3.0\n",
      "6  5  4.0\n",
      "7  0  0.0\n",
      "8  3  1.0\n",
      "9  4  2.0\n"
     ]
    }
   ],
   "source": [
    "\"\"\"\n",
    "1) How-to-count-distance-to-the-previous-zero\n",
    "For each value, count the difference of the distance from the previous zero (or the start\n",
    "of the Series, whichever is closer) and if there are no previous zeros,print the position\n",
    " Consider a DataFrame df where there is an integer column {'X':[7, 2, 0, 3, 4, 2, 5, 0, 3, 4]}\n",
    " The values should therefore be [1, 2, 0, 1, 2, 3, 4, 0, 1, 2]. Make this a new column 'Y'.\n",
    "import pandas as pd\n",
    "df = pd.DataFrame({'X': [7, 2, 0, 3, 4, 2, 5, 0, 3, 4]})\n",
    "\"\"\"\n",
    "\n",
    "import pandas as pd\n",
    "import numpy as np\n",
    "\n",
    "# Storing the Given list as Dataframe in to df\n",
    "df = pd.DataFrame({'X': [7, 2, 0, 3, 4, 2, 5, 0, 3, 4]})\n",
    "#cumsum increment every time new value is encountered and stored in X when its true x will become zero again.\n",
    "x = (df['X'] != 0).cumsum() \n",
    "y = x != x.shift()\n",
    "#Which marks every time the difference between rows is non-zero, so that I can use it to spot transitions in data\n",
    "df['Y'] = y.groupby((y != y.shift()).cumsum()).cumsum()\n",
    "#cumsum increment every time new value is encountered and stored in X when its true x will become zero again.\n",
    "x = (df['X'] != 0).cumsum()\n",
    "y = x != x.shift()\n",
    "#Which marks every time the difference between rows is non-zero, so that I can use it to spot transitions in data\n",
    "df['Y'] = y.groupby((y != y.shift()).cumsum()).cumsum()\n",
    "# printing the result data as data frame\n",
    "print(df)"
   ]
  },
  {
   "cell_type": "code",
   "execution_count": 4,
   "metadata": {},
   "outputs": [
    {
     "name": "stdout",
     "output_type": "stream",
     "text": [
      "2015-01-01    0.380967\n",
      "2015-01-02    0.987785\n",
      "2015-01-03    0.199712\n",
      "2015-01-04    0.722847\n",
      "2015-01-05    0.410392\n",
      "2015-01-06    0.324549\n",
      "2015-01-07    0.557306\n",
      "2015-01-08    0.626344\n",
      "2015-01-09    0.905808\n",
      "2015-01-10    0.870526\n",
      "2015-01-11    0.486774\n",
      "2015-01-12    0.256257\n",
      "2015-01-13    0.893767\n",
      "2015-01-14    0.879269\n",
      "2015-01-15    0.357658\n",
      "2015-01-16    0.966158\n",
      "2015-01-17    0.014704\n",
      "2015-01-18    0.679286\n",
      "2015-01-19    0.664565\n",
      "2015-01-20    0.761804\n",
      "2015-01-21    0.333744\n",
      "2015-01-22    0.634705\n",
      "2015-01-23    0.571425\n",
      "2015-01-24    0.297446\n",
      "2015-01-25    0.639811\n",
      "2015-01-26    0.208956\n",
      "2015-01-27    0.903773\n",
      "2015-01-28    0.027225\n",
      "2015-01-29    0.352454\n",
      "2015-01-30    0.790986\n",
      "                ...   \n",
      "2015-12-02    0.661664\n",
      "2015-12-03    0.964125\n",
      "2015-12-04    0.023331\n",
      "2015-12-05    0.502869\n",
      "2015-12-06    0.992488\n",
      "2015-12-07    0.668223\n",
      "2015-12-08    0.271019\n",
      "2015-12-09    0.009032\n",
      "2015-12-10    0.969018\n",
      "2015-12-11    0.809800\n",
      "2015-12-12    0.641828\n",
      "2015-12-13    0.909451\n",
      "2015-12-14    0.434620\n",
      "2015-12-15    0.304097\n",
      "2015-12-16    0.432041\n",
      "2015-12-17    0.147499\n",
      "2015-12-18    0.170324\n",
      "2015-12-19    0.082422\n",
      "2015-12-20    0.719889\n",
      "2015-12-21    0.377477\n",
      "2015-12-22    0.910338\n",
      "2015-12-23    0.904271\n",
      "2015-12-24    0.985582\n",
      "2015-12-25    0.090768\n",
      "2015-12-26    0.959515\n",
      "2015-12-27    0.469429\n",
      "2015-12-28    0.938544\n",
      "2015-12-29    0.577822\n",
      "2015-12-30    0.553813\n",
      "2015-12-31    0.711446\n",
      "Freq: D, Length: 365, dtype: float64\n"
     ]
    }
   ],
   "source": [
    "\"\"\"\n",
    "Create a DatetimeIndex that contains each business day of 2015 and use it to index a Series of random numbers\n",
    "\"\"\"\n",
    "# cfeating date time index with pandas Date range\n",
    "datetimeindex = pd.date_range(start='2015-01-01', end='2015-12-31')\n",
    "# created series with date time index\n",
    "s = pd.Series(np.random.rand(len(datetimeindex)),index=datetimeindex)\n",
    "print(s)"
   ]
  },
  {
   "cell_type": "code",
   "execution_count": 5,
   "metadata": {},
   "outputs": [
    {
     "data": {
      "text/plain": [
       "23.6029531737413"
      ]
     },
     "execution_count": 5,
     "metadata": {},
     "output_type": "execute_result"
    }
   ],
   "source": [
    "\"\"\"\n",
    "3) Find the sum of the values in s for every Wednesday\n",
    "\"\"\"\n",
    "# finding sum of the wednesdays using weekday_ name \n",
    "s[datetimeindex.weekday_name == 'Wednesday'].sum()"
   ]
  },
  {
   "cell_type": "code",
   "execution_count": 6,
   "metadata": {},
   "outputs": [
    {
     "data": {
      "text/plain": [
       "2015-01-31    0.562474\n",
       "2015-02-28    0.500987\n",
       "2015-03-31    0.483855\n",
       "2015-04-30    0.467110\n",
       "2015-05-31    0.445663\n",
       "2015-06-30    0.454396\n",
       "2015-07-31    0.486156\n",
       "2015-08-31    0.541759\n",
       "2015-09-30    0.485145\n",
       "2015-10-31    0.506159\n",
       "2015-11-30    0.407536\n",
       "2015-12-31    0.567620\n",
       "Freq: M, dtype: float64"
      ]
     },
     "execution_count": 6,
     "metadata": {},
     "output_type": "execute_result"
    }
   ],
   "source": [
    "\"\"\"\n",
    "4) Average For each calendar month\n",
    "\"\"\"\n",
    "# calculating average using mean by frequency as month\n",
    "s.groupby(pd.Grouper(freq='M')).mean()"
   ]
  },
  {
   "cell_type": "code",
   "execution_count": 9,
   "metadata": {},
   "outputs": [
    {
     "data": {
      "text/plain": [
       "2015-01-31    0.987785\n",
       "2015-05-31    0.997545\n",
       "2015-09-30    0.985427\n",
       "2016-01-31    0.992488\n",
       "dtype: float64"
      ]
     },
     "execution_count": 9,
     "metadata": {},
     "output_type": "execute_result"
    }
   ],
   "source": [
    "\"\"\"\n",
    "5) For each group of four consecutive calendar months in s, find the date on which the highest value occurred.\n",
    "\"\"\"\n",
    "# calculating Highest value using max value of the month by max using frequency as quarter with is 4 quarters\n",
    "s.groupby(pd.Grouper(freq='4M')).max()\n"
   ]
  },
  {
   "cell_type": "code",
   "execution_count": 13,
   "metadata": {},
   "outputs": [
    {
     "data": {
      "text/plain": [
       "2015-01-31   2015-01-02\n",
       "2015-05-31   2015-04-22\n",
       "2015-09-30   2015-08-13\n",
       "2016-01-31   2015-12-06\n",
       "dtype: datetime64[ns]"
      ]
     },
     "execution_count": 13,
     "metadata": {},
     "output_type": "execute_result"
    }
   ],
   "source": [
    "# calculating Highest value date  using idmax value of the month by max using frequency as quarter with is 4 quarters\n",
    "s.groupby(pd.Grouper(freq='4M')).idxmax()"
   ]
  },
  {
   "cell_type": "code",
   "execution_count": null,
   "metadata": {},
   "outputs": [],
   "source": []
  }
 ],
 "metadata": {
  "kernelspec": {
   "display_name": "Python 3",
   "language": "python",
   "name": "python3"
  },
  "language_info": {
   "codemirror_mode": {
    "name": "ipython",
    "version": 3
   },
   "file_extension": ".py",
   "mimetype": "text/x-python",
   "name": "python",
   "nbconvert_exporter": "python",
   "pygments_lexer": "ipython3",
   "version": "3.7.0"
  }
 },
 "nbformat": 4,
 "nbformat_minor": 2
}
